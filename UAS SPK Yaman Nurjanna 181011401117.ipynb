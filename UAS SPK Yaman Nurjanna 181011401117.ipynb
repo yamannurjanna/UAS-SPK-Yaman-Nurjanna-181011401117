{
 "cells": [
  {
   "cell_type": "code",
   "execution_count": null,
   "metadata": {},
   "outputs": [
    {
     "name": "stdout",
     "output_type": "stream",
     "text": [
      "\n",
      "Input Sentence\n",
      "--------------------\n",
      "User\t:cya\n",
      "bot\t:Sad to see you go :( \n",
      "\n",
      "\n",
      "Input Sentence\n",
      "--------------------\n",
      "User\t:how old\n",
      "bot\t:18 years young! \n",
      "\n",
      "\n",
      "Input Sentence\n",
      "--------------------\n",
      "User\t:Hi\n",
      "bot\t:Good to see you again! \n",
      "\n",
      "\n",
      "Input Sentence\n",
      "--------------------\n",
      "User\t:What is your name\n",
      "bot\t:Wrong sentence......!\n",
      "\n",
      "\n",
      "Input Sentence\n",
      "--------------------\n",
      "User\t:what is your name\n",
      "bot\t:I'm Tim aka Tech With Tim. \n",
      "\n",
      "\n",
      "Input Sentence\n",
      "--------------------\n"
     ]
    }
   ],
   "source": [
    "import re\n",
    "import random\n",
    "\n",
    "kta = [\"Hello!\", \"Good to see you again!\", \"Hi there, how can I help?\"]\n",
    "ktb = [\"Sad to see you go :(\", \"Talk to you later\", \"Goodbye!\"]\n",
    "ktc = [\"I am 18 years old!\", \"18 years young!\"]\n",
    "ktd = [\"You can call me Tim.\", \"I'm Tim!\", \"I'm Tim aka Tech With Tim.\"]\n",
    "kte = [\"We sell chocolate chip cookies for $2!\", \"Cookies are on the menu!\"]\n",
    "ktf = [\"We are open 7am-4pm Monday-Friday!\"]\n",
    "\n",
    "while True:\n",
    "\n",
    "    print(\"\\nInput Sentence\")\n",
    "    print(\"--------------------\")\n",
    "    x = input(\"User\\t:\")\n",
    "    if re.findall(r'Hi|How are you|Is anyone there?|Hello|Good day|Whats up', x):\n",
    "        print(\"bot\\t:\"+random.choice(kta), \"\\n\")\n",
    "    elif re.findall(r'cya|See you later|Goodbye|I am Leaving|Have a Good day', x):\n",
    "        print(\"bot\\t:\"+random.choice(ktb), \"\\n\")\n",
    "    elif re.findall(r'how old|how old is tim|what is your age|how old are you|age', x):\n",
    "        print(\"bot\\t:\"+random.choice(ktc), \"\\n\")   \n",
    "    elif re.findall(r'what is your name|what should I call you|whats your name?', x):\n",
    "        print(\"bot\\t:\"+random.choice(ktd), \"\\n\") \n",
    "    elif re.findall(r'Id like to buy something|whats on the menu|what do you reccommend?|could i get something to eat', x):\n",
    "        print(\"bot\\t:\"+random.choice(kte), \"\\n\") \n",
    "    elif re.findall(r'when are you guys open|what are your hours|hours of operation', x):\n",
    "        print(\"bot\\t:\"+random.choice(ktf), \"\\n\")     \n",
    "    else:\n",
    "        print(\"bot\\t:Wrong sentence......!\\n\")"
   ]
  },
  {
   "cell_type": "code",
   "execution_count": null,
   "metadata": {},
   "outputs": [],
   "source": []
  }
 ],
 "metadata": {
  "kernelspec": {
   "display_name": "Python 3",
   "language": "python",
   "name": "python3"
  },
  "language_info": {
   "codemirror_mode": {
    "name": "ipython",
    "version": 3
   },
   "file_extension": ".py",
   "mimetype": "text/x-python",
   "name": "python",
   "nbconvert_exporter": "python",
   "pygments_lexer": "ipython3",
   "version": "3.7.0"
  }
 },
 "nbformat": 4,
 "nbformat_minor": 2
}
